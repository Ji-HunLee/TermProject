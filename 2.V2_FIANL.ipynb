{
 "cells": [
  {
   "cell_type": "markdown",
   "metadata": {},
   "source": [
    "# 1. YOLO모델 적용 후 동영상 저장"
   ]
  },
  {
   "cell_type": "code",
   "execution_count": null,
   "metadata": {},
   "outputs": [],
   "source": [
    "import cv2\n",
    "import numpy as np\n",
    "from imageai.Detection import VideoObjectDetection\n",
    "import os\n",
    "\n",
    "execution_path = os.getcwd()\n",
    "\n",
    "detector = VideoObjectDetection()\n",
    "detector.setModelTypeAsYOLOv3()\n",
    "detector.setModelPath( os.path.join(execution_path , \"models/yolo.h5\"))\n",
    "detector.loadModel()\n",
    "\n",
    "video_path = detector.detectObjectsFromVideo(\n",
    "    input_file_path=os.path.join(execution_path, \"videos/v2/v2_raw.mp4\"),\n",
    "    output_file_path=os.path.join(execution_path, \"videos/v2/v2_YOLO\"),\n",
    "    frames_per_second=30, log_progress=True)\n",
    "print(video_path)"
   ]
  },
  {
   "cell_type": "markdown",
   "metadata": {},
   "source": [
    "# 2. YOLO모델에서 사람의 수 COUNT후 파일로 저장"
   ]
  },
  {
   "cell_type": "code",
   "execution_count": null,
   "metadata": {},
   "outputs": [],
   "source": [
    "from imageai.Detection import VideoObjectDetection\n",
    "import os\n",
    "\n",
    "#YOLO 동영상 저장\n",
    "execution_path = os.getcwd()\n",
    "resized = False\n",
    "\n",
    "def forFrame(frame_number, output_array, output_count, returned_frame):\n",
    "\n",
    "\n",
    "    this_colors = []\n",
    "    labels = []\n",
    "    sizes = []\n",
    "\n",
    "    counter = 0\n",
    "    \n",
    "    file = open('V2_person.txt','a')\n",
    "    \n",
    "    if 'person' in output_count:\n",
    "        file.write(str(output_count['person']) + '\\n')\n",
    "    else:\n",
    "        file.write(str(0) + '\\n')\n",
    "    file.close()\n",
    "    \n",
    "    global resized\n",
    "\n",
    "\n",
    "\n",
    "video_detector = VideoObjectDetection()\n",
    "video_detector.setModelTypeAsYOLOv3()\n",
    "video_detector.setModelPath(os.path.join(execution_path, \"models/yolo.h5\"))\n",
    "video_detector.loadModel()\n",
    "\n",
    "video_detector.detectObjectsFromVideo(input_file_path=os.path.join(execution_path, \"videos/termproj_V2.mp4\"), \n",
    "                                      output_file_path=os.path.join(execution_path, \"video_frame_analysis_test\") ,  \n",
    "                                      frames_per_second = 30, per_frame_function=forFrame,  \n",
    "                                      minimum_percentage_probability=50, \n",
    "                                      return_detected_frame=True)"
   ]
  },
  {
   "cell_type": "markdown",
   "metadata": {},
   "source": [
    "# 3. YOLO동영상을 mtcnn으로 얼굴 인식 + 얼굴의 수 count 후 파일 저장"
   ]
  },
  {
   "cell_type": "code",
   "execution_count": null,
   "metadata": {},
   "outputs": [],
   "source": [
    "import cv2\n",
    "import numpy as np\n",
    "from mtcnn.mtcnn import MTCNN\n",
    "from imageai.Detection import VideoObjectDetection\n",
    "import os\n",
    "\n",
    "detector = MTCNN()\n",
    "cap = cv2.VideoCapture('videos/v2/v2_YOLO.avi')\n",
    "width = int(cap.get(cv2.CAP_PROP_FRAME_WIDTH))\n",
    "height = int(cap.get(cv2.CAP_PROP_FRAME_HEIGHT))\n",
    "\n",
    "fourcc = cv2.VideoWriter_fourcc(*'XVID')\n",
    "fps = 30\n",
    "\n",
    "writer = cv2.VideoWriter('videos/v2/v2_YOLO_MTCNN.avi', fourcc, fps, (width, height))\n",
    "\n",
    "while True: \n",
    "    ret, frame = cap.read()\n",
    "    \n",
    "    if ret == False: \n",
    "        break\n",
    "        \n",
    "    file = open('V2_face.txt', 'a')\n",
    "    result = detector.detect_faces(frame)\n",
    "    if result != []:\n",
    "        for person in result:\n",
    "            bounding_box = person['box']\n",
    "            keypoints = person['keypoints']\n",
    "    \n",
    "            cv2.rectangle(frame,\n",
    "                          (bounding_box[0], bounding_box[1]),\n",
    "                          (bounding_box[0]+bounding_box[2], bounding_box[1] + bounding_box[3]),\n",
    "                          (0,155,255),\n",
    "                          2)\n",
    "    \n",
    "            cv2.circle(frame,(keypoints['left_eye']), 2, (0,155,255), 2)\n",
    "            cv2.circle(frame,(keypoints['right_eye']), 2, (0,155,255), 2)\n",
    "            cv2.circle(frame,(keypoints['nose']), 2, (0,155,255), 2)\n",
    "            cv2.circle(frame,(keypoints['mouth_left']), 2, (0,155,255), 2)\n",
    "            cv2.circle(frame,(keypoints['mouth_right']), 2, (0,155,255), 2)\n",
    "        file.write(str(len(result)) + '\\n')       #result의 element수가 detect하는 수가 된다. 즉, 얼굴의 개수\n",
    "    else:\n",
    "        file.write(str(0) + '\\n')\n",
    "    \n",
    "    file.close()\n",
    "    writer.write(frame)\n",
    "    \n",
    "   \n",
    "cap.release()\n",
    "writer.release()\n",
    "cv2.destroyAllWindows()"
   ]
  }
 ],
 "metadata": {
  "kernelspec": {
   "display_name": "Python 3",
   "language": "python",
   "name": "python3"
  },
  "language_info": {
   "codemirror_mode": {
    "name": "ipython",
    "version": 3
   },
   "file_extension": ".py",
   "mimetype": "text/x-python",
   "name": "python",
   "nbconvert_exporter": "python",
   "pygments_lexer": "ipython3",
   "version": "3.7.4"
  }
 },
 "nbformat": 4,
 "nbformat_minor": 2
}
